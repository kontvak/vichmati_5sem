{
 "cells": [
  {
   "metadata": {},
   "cell_type": "markdown",
   "source": [
    "## Домашнее задание\n",
    "\n",
    "__Задание 1. Генератор случайных матриц.__\n",
    "\n",
    "Реализовать генератор матриц, который должен поддерживать функции:\n",
    "* Генерация абсолютно случайной матрицы $n\\times m$\n",
    "* Генерация случайной диагональной матрицы $n\\times n$\n",
    "* Генерация случайной верхнетреугольной матрицы\n",
    "* Генерация случайной нижнетреугольной матрицы\n",
    "* Генерация симметричной матрицы\n",
    "* Генерация возмущения матрицы $n\\times m$, каждый элемент которой не превосходит по модулю заданный $\\varepsilon$. Оценить величину нормы матрицы возмущений в зависимости от параметра $\\varepsilon$ (оценить верхную границу).\n",
    "\n",
    "Оценить численно вероятность того, что созданная матрица будет вырожденной для какого-либо случая выше."
   ],
   "id": "2542f8bf5d74fca5"
  },
  {
   "metadata": {
    "ExecuteTime": {
     "end_time": "2025-09-29T17:06:09.092487Z",
     "start_time": "2025-09-29T17:06:08.998231Z"
    }
   },
   "cell_type": "code",
   "source": [
    "import numpy as np\n",
    "from scipy.linalg import eigvals"
   ],
   "id": "58688906a1c6332c",
   "outputs": [],
   "execution_count": 2
  },
  {
   "metadata": {
    "ExecuteTime": {
     "end_time": "2025-09-29T17:06:09.339056Z",
     "start_time": "2025-09-29T17:06:09.335121Z"
    }
   },
   "cell_type": "code",
   "source": [
    "def matrix_generate(rows, columns, type_ = \"full\", eps = 0):\n",
    "    \"\"\"\n",
    "    matrix_generate(rows, columns, type_ = \"full\")\n",
    "\n",
    "    Создаёт случайную матрицу выбранного типа.\n",
    "\n",
    "    Если матрицу нужных размеров создать нельзя должен выдать\n",
    "    строку f\"Error with type {type_} and shape ({rows},{columns})\".\n",
    "\n",
    "    Parameters\n",
    "    ----------\n",
    "\n",
    "    rows : int\n",
    "        Количество строк в создаваемой матрице.\n",
    "    columns : int\n",
    "        Количество столбцов в создаваемой матрице.\n",
    "    type_ : str, optional\n",
    "        Тип создаваемой матрицы: \"full\", \"upper_triangular\", \"symmetric\" и т.д.\n",
    "    eps: float, optional\n",
    "        Дополнительное число, использующееся при генерации для некоторых типов матриц.\n",
    "\n",
    "    Returns\n",
    "    -------\n",
    "    out : ndarray or str\n",
    "        Выдаёт матрицу нужного типа либо ошибку.\n",
    "\n",
    "    Notes\n",
    "    -----\n",
    "    Поддерживаемые типы матриц:\n",
    "        \"full\",\"diagonal\",\"upper_triangular\",\"lower_triangular\",\n",
    "        \"symmetric\", \"perturbation\"\n",
    "    \"\"\"\n",
    "\n",
    "    A = None\n",
    "    if type_ == \"full\":\n",
    "        A = np.random.random(size=(rows, columns))\n",
    "    elif type_ == \"diagonal\":\n",
    "        if rows != columns:\n",
    "            return f\"Error with type {type_} and shape ({rows},{columns})\"\n",
    "        else:\n",
    "            A = np.diag(np.random.random(rows))\n",
    "    elif type_ == \"upper_triangular\":\n",
    "        A = np.triu(np.random.random(size=(rows, columns)))\n",
    "    elif type_ == \"lower_triangular\":\n",
    "        A = np.tril(np.random.random(size=(rows, columns)))\n",
    "    elif type_ == \"symmetric\":\n",
    "        if rows != columns:\n",
    "            return f\"Error with type {type_} and shape ({rows},{columns})\"\n",
    "        else:\n",
    "            A = np.random.random(size=(rows, columns))\n",
    "            A = np.triu(A) + np.triu(A, 1).T\n",
    "    elif type_ == \"perturbation\":\n",
    "        A = np.random.uniform(low=-eps, high=eps, size=(rows, columns))\n",
    "        frob_norm_bound = eps * np.sqrt(rows * columns)\n",
    "        spectral_norm_bound = eps * min(rows, columns)\n",
    "\n",
    "        print(f\"Верхняя оценка нормы Фробениуса: {frob_norm_bound:.6f}\")\n",
    "        print(f\"Верхняя оценка спектральной нормы: {spectral_norm_bound:.6f}\")\n",
    "    else:\n",
    "        return f\"Error with type {type_}\"\n",
    "    return A"
   ],
   "id": "1972e830eb802ba5",
   "outputs": [],
   "execution_count": 3
  },
  {
   "metadata": {},
   "cell_type": "markdown",
   "source": [
    "Верхняя граница нормы матрицы возмущения:\n",
    "\n",
    "Максимальная векторная норма - eps*columns\n",
    "\n",
    "Манхэттенская норма - eps*rows\n",
    "\n",
    "Евклидова норма - $<= \\sqrt{||A||_1 ||A||_\\infty} = eps*\\sqrt{rows*columns}$\n",
    "\n",
    "Норма Фробениуса - $eps*\\sqrt{rows*columns}$"
   ],
   "id": "f6066a2ac3496c47"
  },
  {
   "metadata": {},
   "cell_type": "markdown",
   "source": "Для всех вышеперечисленных матриц, кроме матрицы возмущения с параметром eps=0, вероятность вырождения равна нулю.",
   "id": "b2bc21c926b38d93"
  },
  {
   "metadata": {},
   "cell_type": "markdown",
   "source": [
    "__Задание 2. Вычисление матричных норм и числа обусловленности.__\n",
    "\n",
    "Реализовать вычисление трех основных норм векторов (L1, L2 и максимальную) и подчиненных им матричных норм. Реализовать вычисление числа обусловленности.\n",
    "\n",
    "Примечание: для вычисления собственных значений можно использовать linalg.eigvals из модуля scipy."
   ],
   "id": "2efddc2f9a83e73a"
  },
  {
   "metadata": {
    "ExecuteTime": {
     "end_time": "2025-09-29T17:06:04.945951Z",
     "start_time": "2025-09-29T17:06:04.942328Z"
    }
   },
   "cell_type": "code",
   "source": [
    "def vector_norm(x, type_='l2'):\n",
    "    \"\"\"\n",
    "    Нормы вектора\n",
    "    'l1' - сумма абсолютных значений\n",
    "    'l2' - евклидова норма\n",
    "    'max' - максимальное по модулю значение\n",
    "    \"\"\"\n",
    "    if type_ == 'l1':\n",
    "        return np.sum(np.abs(x))\n",
    "    elif type_ == 'l2':\n",
    "        return np.sqrt(np.sum(x**2))\n",
    "    elif type_ == 'max':\n",
    "        return np.max(np.abs(x))\n",
    "    else:\n",
    "        raise f\"Error with type {type_}\"\n",
    "\n",
    "def matrix_norm(A, type_='l2'):\n",
    "    \"\"\"\n",
    "    Матричные нормы\n",
    "    'l1' - максимальная сумма по столбцам\n",
    "    'l2' - максимальное сингулярное число\n",
    "    'max' - максимальная сумма по строкам\n",
    "    \"\"\"\n",
    "    if type_ == 'l1':\n",
    "        return np.max(np.sum(np.abs(A), axis=0))\n",
    "    elif type_ == 'l2':\n",
    "        eigenvalues = eigvals(A.T @ A)\n",
    "        max_eigenvalue = np.max(np.real(eigenvalues))\n",
    "        return np.sqrt(max_eigenvalue)\n",
    "    elif type_ == 'max':\n",
    "        return np.max(np.sum(np.abs(A), axis=1))\n",
    "    else:\n",
    "        raise f\"Error with type {type_}\"\n",
    "\n",
    "def condition_number(A, type_='l2'):\n",
    "    \"\"\"\n",
    "    Допустимые type_ в matrix_norm()\n",
    "    \"\"\"\n",
    "    try:\n",
    "        norm_A = matrix_norm(A, type_)\n",
    "        norm_A_inv = matrix_norm(np.linalg.inv(A), type_)\n",
    "        return norm_A * norm_A_inv\n",
    "    except np.linalg.LinAlgError:\n",
    "        return np.inf"
   ],
   "id": "b682aa710665dec8",
   "outputs": [],
   "execution_count": 1
  },
  {
   "metadata": {},
   "cell_type": "markdown",
   "source": [
    "__Задание 3. Эквивалентность первых двух норм.__\n",
    "\n",
    "Найдите константы $C_1$  и  $C_2$ такие, что\n",
    "\n",
    "$\\ C_1||\\mathbf{x}||_2\\leq||\\mathbf{x}||_1\\leq C_2||\\mathbf{x}||_2$\n",
    "\n",
    "\n",
    "Указание: в качестве подсказки можно использовать визуализацию норм из документа с теорией."
   ],
   "id": "c17dc92d42abf5c0"
  },
  {
   "metadata": {},
   "cell_type": "markdown",
   "source": [
    "Из визуализации норм видно, что $C_1=1$.\n",
    "\n",
    "Для второго неравенства воспользуемся неравенством Коши Буянковского.\n",
    "$$\n",
    "||x||_1 = \\sum |x_i| \\leq \\sqrt{\\sum x_i^2} \\sqrt{\\sum 1^2} = ||x||_2 \\sqrt{n}\n",
    "$$\n",
    "Следовательно $C_2 = \\sqrt{n}$"
   ],
   "id": "35f9ae0004a52f95"
  },
  {
   "metadata": {},
   "cell_type": "markdown",
   "source": [
    "__Задание 4. Евклидова и бесконечная норма.__\n",
    "\n",
    " Пусть x — вектор размерности m, а A — матрица m×n. Докажите следующие неравенства и приведите\n",
    "примеры таких x и A, при которых неравенства обращаются в равенства:\n",
    "\n",
    "- $\\|x\\|_2 \\leq \\sqrt{m} \\cdot \\|x\\|_{\\infty}$\n",
    "- $\\|A\\|_{\\infty} \\leq \\sqrt{n} \\cdot \\|A\\|_2$"
   ],
   "id": "42bd6d964aa9bf82"
  },
  {
   "metadata": {},
   "cell_type": "markdown",
   "source": [
    "Первое неравенство превращается в равенство, если элементы вектора одинаковы.\n",
    "$$\n",
    "\\sqrt{\\sum x_i^2} \\leq \\sqrt{\\sum (max(|x_i|))^2 } = \\sqrt{m} max(|x_i|)\n",
    "$$\n",
    "\n"
   ],
   "id": "bf0da1d757eb1bfb"
  },
  {
   "metadata": {},
   "cell_type": "markdown",
   "source": [
    "Во втором неравенстве рассмотрим норму $||A||_2$.\n",
    "По одному из определений:\n",
    "$$\n",
    "||A||_2 = max||Ax||_2, ||x||_2 = 1.\n",
    "$$\n",
    "Так как мы можем брать любой вектор $x$, возьмем его так, чтобы $Ax$ было строкой матрицы $A$ (обозначим $a_i$).\n",
    "\n",
    "Тогда $||A||_2 \\geq max||a_i||_2$.\n",
    "\n",
    "Также для нормы $||A||_\\infty= max||a_i||_1$, имеем теорему $||a_i||_1 \\leq\\sqrt{n}||a||_2$.\n",
    "\n",
    "Следовательно,\n",
    "$$\\sqrt{n}||A||_2 \\geq \\sqrt{n} max||a_i||_2 \\geq max ||a_i||_1 = ||A||_\\infty $$\n",
    "Пример, когда оба неравенства превращаются в равенство - это максимальная строка состоит из одинаковых чисел\n",
    "и и выполняется равенство в первой части. Например, матрица с единственной строкой, состоящей из единиц."
   ],
   "id": "ffc8190aec2f207"
  },
  {
   "metadata": {},
   "cell_type": "markdown",
   "source": [
    "__Задание 5.  Норма Фробениуса.__\n",
    "\n",
    "Докажите, что для любой унитарной матрицы U (и для произвольной матрицы A) имеет место равенство\n",
    "\n",
    " $\\| U A \\|_F = \\| AU \\|_F = \\| A \\|_F$ ,\n",
    "\n",
    " где $\\| \\cdot \\|_F$ — норма Фробениуса.\n",
    "\n",
    "Указание.\n",
    "Задачу можно решить без вычислений, если использовать геометрический смысл нормы Фробениуса и геометрические свойства умножения на унитарную матрицу (что при умножении на неё сохраняется)."
   ],
   "id": "58bc143612dad5fc"
  },
  {
   "metadata": {},
   "cell_type": "markdown",
   "source": "Геометрически нормы Фробениуса это l2 норма вектора образованного из всех столбцов матрицы. Если $a_i$ столбцы матрицы, то $||A||_F = \\sqrt{\\sum||a_i||_2^2}$. Известно, что унитарное преобразование вектора сохраняет евклидову норму, следовательно, нормы столбцов $a_i$ не изменяются, а значит норма Фробениуса не поменяется. Для другой части равенства, рассуждения такие же, но для строк.",
   "id": "8cef7869eeb8555e"
  },
  {
   "metadata": {},
   "cell_type": "markdown",
   "source": [
    "__Задание 6*.  Тензорная свёртка.__\n",
    "\n",
    "Рассмотрим функцию, отображающую шесть тензоров на один тензор: $Z\\left(\\lambda^{(1)}, \\lambda^{(2)}, \\lambda^{(3)}, \\Gamma^{(1)}, \\Gamma^{(2)}, U\\right)$ :\n",
    "\n",
    "\n",
    "$$\n",
    "Z_{a h i j}=\\sum_{b c d e f g} \\lambda^{(1)}{ }_{a b} \\Gamma_{c b d}^{(1)} \\lambda^{(2)}{ }_{d e} \\Gamma_{f e g}^{(2)} \\lambda_{g h}^{(3)} U_{i j c f}\n",
    "$$\n",
    "\n",
    "редположив, что все индексы пробегают значения от 1 до χ, проведите эксперимент и сравните скорость\n",
    "различных реализаций функции Z. Исследуйте значения χ в диапазоне 3–50.\n",
    "\n",
    "\n",
    "- В файле convolution.ipynb вы можете найти релизацию глупого способа вычисления этой свертки, который требует $\\chi^4 \\times \\chi^6=\\chi^{10}$ операций. На самом деле это можно вычислить гораздо быстрее!\n",
    "- С помощью функции numpy.einsum (нужно использовать аргумент optimize), можно добиться намного большей производительности. Чтобы понять, что происходит под капотом, воспользуйтесь функцией numpy.einsum_path. Какое минимальное количество операций требуется для вычисления $Z$ ?\n",
    "- Посмотрев на вывод функции numpy.einsum_path, peализуйте алгоритм для вычисления $Z$, который столь же эффективен, как numpy.einsum, но использует более элементарные numpy.dot и numpy.tensor_dot.\n"
   ],
   "id": "9379da878df098c1"
  }
 ],
 "metadata": {
  "kernelspec": {
   "display_name": "Python 3",
   "language": "python",
   "name": "python3"
  },
  "language_info": {
   "codemirror_mode": {
    "name": "ipython",
    "version": 2
   },
   "file_extension": ".py",
   "mimetype": "text/x-python",
   "name": "python",
   "nbconvert_exporter": "python",
   "pygments_lexer": "ipython2",
   "version": "2.7.6"
  }
 },
 "nbformat": 4,
 "nbformat_minor": 5
}
